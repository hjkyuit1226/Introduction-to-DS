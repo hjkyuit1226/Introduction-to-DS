{
  "nbformat": 4,
  "nbformat_minor": 0,
  "metadata": {
    "colab": {
      "name": "IDS_20200320.ipynb",
      "provenance": []
    },
    "kernelspec": {
      "name": "python3",
      "display_name": "Python 3"
    }
  },
  "cells": [
    {
      "cell_type": "code",
      "metadata": {
        "id": "n1ys4i2OqAiJ",
        "colab_type": "code",
        "colab": {
          "base_uri": "https://localhost:8080/",
          "height": 69
        },
        "outputId": "0ab87070-e1ed-41c9-c081-44d7cbb639da"
      },
      "source": [
        "movie_title=\"Avengers:Endgame\"\n",
        "movie_time=181\n",
        "movie_rating=8.4\n",
        "\n",
        "print(movie_title)\n",
        "print(movie_time)\n",
        "print(movie_rating)"
      ],
      "execution_count": 2,
      "outputs": [
        {
          "output_type": "stream",
          "text": [
            "Avengers:Endgame\n",
            "181\n",
            "8.4\n"
          ],
          "name": "stdout"
        }
      ]
    },
    {
      "cell_type": "code",
      "metadata": {
        "id": "3k_kTgMZsN0z",
        "colab_type": "code",
        "colab": {
          "base_uri": "https://localhost:8080/",
          "height": 69
        },
        "outputId": "9fc26657-7dcb-4f29-e6b1-32235cded0bc"
      },
      "source": [
        "print(type(movie_title))\n",
        "print(type(movie_time))\n",
        "print(type(movie_rating))"
      ],
      "execution_count": 3,
      "outputs": [
        {
          "output_type": "stream",
          "text": [
            "<class 'str'>\n",
            "<class 'int'>\n",
            "<class 'float'>\n"
          ],
          "name": "stdout"
        }
      ]
    }
  ]
}