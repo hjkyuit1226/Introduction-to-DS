{
  "nbformat": 4,
  "nbformat_minor": 0,
  "metadata": {
    "colab": {
      "name": "IDS_20200515.ipynb",
      "provenance": []
    },
    "kernelspec": {
      "name": "python3",
      "display_name": "Python 3"
    }
  },
  "cells": [
    {
      "cell_type": "code",
      "metadata": {
        "id": "Ef662Z3x-Gym",
        "colab_type": "code",
        "colab": {
          "base_uri": "https://localhost:8080/",
          "height": 69
        },
        "outputId": "cfd23406-18e7-4aec-d5ef-bc8d86967655"
      },
      "source": [
        "primes_list = [2, 3, 5, 7, 11]\n",
        "primes_list[-1] = 13 # update\n",
        "print(primes_list)\n",
        "\n",
        "primes_list.insert(-1, 11) # increase length\n",
        "print(primes_list)\n",
        "\n",
        "primes_list.pop()\n",
        "print(primes_list)"
      ],
      "execution_count": 1,
      "outputs": [
        {
          "output_type": "stream",
          "text": [
            "[2, 3, 5, 7, 13]\n",
            "[2, 3, 5, 7, 11, 13]\n",
            "[2, 3, 5, 7, 11]\n"
          ],
          "name": "stdout"
        }
      ]
    },
    {
      "cell_type": "code",
      "metadata": {
        "id": "4-PpZVYp-ci8",
        "colab_type": "code",
        "colab": {
          "base_uri": "https://localhost:8080/",
          "height": 35
        },
        "outputId": "70291c8e-92ba-4552-a829-e52d44faa361"
      },
      "source": [
        "primes = (2, 3, 5, 7, 11)\n",
        "print(type(primes))"
      ],
      "execution_count": 2,
      "outputs": [
        {
          "output_type": "stream",
          "text": [
            "<class 'tuple'>\n"
          ],
          "name": "stdout"
        }
      ]
    },
    {
      "cell_type": "code",
      "metadata": {
        "id": "kMDkqKLo-hkr",
        "colab_type": "code",
        "colab": {
          "base_uri": "https://localhost:8080/",
          "height": 104
        },
        "outputId": "36cccf15-01aa-4125-b261-95f1f93414fd"
      },
      "source": [
        "x = 0.25\n",
        "print(type(x))\n",
        "print(x.as_integer_ratio())\n",
        "print(type(x.as_integer_ratio()))\n",
        "\n",
        "numerator, denominator = x.as_integer_ratio()\n",
        "print(numerator)\n",
        "print(denominator)"
      ],
      "execution_count": 3,
      "outputs": [
        {
          "output_type": "stream",
          "text": [
            "<class 'float'>\n",
            "(1, 4)\n",
            "<class 'tuple'>\n",
            "1\n",
            "4\n"
          ],
          "name": "stdout"
        }
      ]
    },
    {
      "cell_type": "code",
      "metadata": {
        "id": "Wx-mlgEy-i4i",
        "colab_type": "code",
        "colab": {
          "base_uri": "https://localhost:8080/",
          "height": 87
        },
        "outputId": "0921b78e-3ab3-4cf0-9fd1-71826f15e427"
      },
      "source": [
        "def where_are_you_from(city, country):\n",
        "    return city, country\n",
        "\n",
        "print(where_are_you_from(\"Taipei\", \"Taiwan\"))\n",
        "print(type(where_are_you_from(\"Taipei\", \"Taiwan\")))\n",
        "\n",
        "my_city, my_country = where_are_you_from(\"Taipei\", \"Taiwan\")\n",
        "print(my_city)\n",
        "print(my_country)"
      ],
      "execution_count": 4,
      "outputs": [
        {
          "output_type": "stream",
          "text": [
            "('Taipei', 'Taiwan')\n",
            "<class 'tuple'>\n",
            "Taipei\n",
            "Taiwan\n"
          ],
          "name": "stdout"
        }
      ]
    },
    {
      "cell_type": "code",
      "metadata": {
        "id": "SfvM2o-I-mDC",
        "colab_type": "code",
        "colab": {
          "base_uri": "https://localhost:8080/",
          "height": 141
        },
        "outputId": "f0595ff5-d52d-421d-8359-174bb91d0190"
      },
      "source": [
        "the_avengers = {\n",
        "    \"Iron Man\": \"Tony Stark\",\n",
        "    \"Captain America\": \"Steve Rogers\",\n",
        "    \"Hulk\": \"Bruce Banner\",\n",
        "    \"Thor\": \"Thor\",\n",
        "    \"Black Widow\": \"Natasha Romanoff\",\n",
        "    \"Hawkeye\": \"Clint Barton\"\n",
        "}\n",
        "print(the_avengers)\n",
        "print(type(the_avengers))\n",
        "print(\"------------------------------\")\n",
        "\n",
        "print(the_avengers.keys())\n",
        "print(the_avengers.values())\n",
        "print(the_avengers.items()) # 6 組 tuples"
      ],
      "execution_count": 5,
      "outputs": [
        {
          "output_type": "stream",
          "text": [
            "{'Iron Man': 'Tony Stark', 'Captain America': 'Steve Rogers', 'Hulk': 'Bruce Banner', 'Thor': 'Thor', 'Black Widow': 'Natasha Romanoff', 'Hawkeye': 'Clint Barton'}\n",
            "<class 'dict'>\n",
            "------------------------------\n",
            "dict_keys(['Iron Man', 'Captain America', 'Hulk', 'Thor', 'Black Widow', 'Hawkeye'])\n",
            "dict_values(['Tony Stark', 'Steve Rogers', 'Bruce Banner', 'Thor', 'Natasha Romanoff', 'Clint Barton'])\n",
            "dict_items([('Iron Man', 'Tony Stark'), ('Captain America', 'Steve Rogers'), ('Hulk', 'Bruce Banner'), ('Thor', 'Thor'), ('Black Widow', 'Natasha Romanoff'), ('Hawkeye', 'Clint Barton')])\n"
          ],
          "name": "stdout"
        }
      ]
    },
    {
      "cell_type": "code",
      "metadata": {
        "id": "upysxTP--oca",
        "colab_type": "code",
        "colab": {
          "base_uri": "https://localhost:8080/",
          "height": 52
        },
        "outputId": "2060b088-67da-4756-9fa5-f6e233a43f28"
      },
      "source": [
        "living_area = input(\"請輸入您的居住城市:\")\n",
        "\n",
        "# 方法一\n",
        "living_cost = None\n",
        "if living_area == '臺北市':\n",
        "    living_cost = 17005\n",
        "elif living_area == '新北市':\n",
        "    living_cost = 15500\n",
        "elif living_area == '桃園市':\n",
        "    living_cost = 15281\n",
        "elif living_area == '臺中市':\n",
        "    living_cost = 14596\n",
        "elif living_area == '臺南市':\n",
        "    living_cost = 12388\n",
        "elif living_area == '高雄市':\n",
        "    living_cost = 13099\n",
        "elif living_area == '非六都之縣市':\n",
        "    living_cost = 12388\n",
        "elif living_area == '金門縣連江縣':\n",
        "    living_cost = 11648\n",
        "\n",
        "if living_cost is None:\n",
        "    print(\"請重新輸入居住縣市\")\n",
        "else:\n",
        "    print(\"{}的每人每月最低生活費為{:,}\".format(living_area, living_cost))\n"
      ],
      "execution_count": 6,
      "outputs": [
        {
          "output_type": "stream",
          "text": [
            "請輸入您的居住城市:新北市\n",
            "新北市的每人每月最低生活費為15,500\n"
          ],
          "name": "stdout"
        }
      ]
    },
    {
      "cell_type": "code",
      "metadata": {
        "id": "wpSmWZL6-yVa",
        "colab_type": "code",
        "colab": {
          "base_uri": "https://localhost:8080/",
          "height": 52
        },
        "outputId": "990b3142-2827-4e3e-b38b-582c3ff5c463"
      },
      "source": [
        "living_cost_dict = {\n",
        "    '臺北市' : 17005,\n",
        "    '新北市' : 15500,\n",
        "    '桃園市' : 15281,\n",
        "    '臺中市' : 14596,\n",
        "    '臺南市' : 12388,\n",
        "    '高雄市' : 13099,\n",
        "    '非六都之縣市' : 12388,\n",
        "    '金門縣連江縣' : 11648,\n",
        "}\n",
        "# 方法二\n",
        "living_area = input(\"請輸入您的居住城市:\")\n",
        "try:\n",
        "  living_cost = living_cost_dict[living_area]\n",
        "  print(\"{}的每人每月最低生活費為{:,}\".format(living_area, living_cost))\n",
        "except KeyError:\n",
        "    print(\"請重新輸入居住縣市\")"
      ],
      "execution_count": 8,
      "outputs": [
        {
          "output_type": "stream",
          "text": [
            "請輸入您的居住城市:花蓮市\n",
            "請重新輸入居住縣市\n"
          ],
          "name": "stdout"
        }
      ]
    },
    {
      "cell_type": "code",
      "metadata": {
        "id": "z_lLwNke--qJ",
        "colab_type": "code",
        "colab": {
          "base_uri": "https://localhost:8080/",
          "height": 35
        },
        "outputId": "1d7424d5-48be-4f92-f13b-eee512a057d7"
      },
      "source": [
        "living_cost_dict = {\n",
        "    '臺北市' : 17005,\n",
        "    '新北市' : 15500,\n",
        "    '桃園市' : 15281,\n",
        "    '臺中市' : 14596,\n",
        "    '臺南市' : 12388,\n",
        "    '高雄市' : 13099,\n",
        "    '非六都之縣市' : 12388,\n",
        "    '金門縣連江縣' : 11648,\n",
        "}\n",
        "# 方法三\n",
        "#@title Default title text\n",
        "living_area = '\\u975E\\u516D\\u90FD\\u4E4B\\u7E23\\u5E02' #@param ['臺北市', '新北市', '桃園市', '臺中市', '臺南市', '高雄市', '非六都之縣市', '金門縣連江縣']\n",
        "living_cost = living_cost_dict[living_area]\n",
        "print(\"{}的每人每月最低生活費為{:,}\".format(living_area, living_cost))"
      ],
      "execution_count": 9,
      "outputs": [
        {
          "output_type": "stream",
          "text": [
            "非六都之縣市的每人每月最低生活費為12,388\n"
          ],
          "name": "stdout"
        }
      ]
    },
    {
      "cell_type": "code",
      "metadata": {
        "id": "poCy2gIv_C6x",
        "colab_type": "code",
        "colab": {
          "base_uri": "https://localhost:8080/",
          "height": 104
        },
        "outputId": "3d317cc9-6826-417e-fd6d-a1e3eb646a56"
      },
      "source": [
        "primes = {2, 3, 5, 7, 11, 13}\n",
        "print(primes)\n",
        "print(type(primes))\n",
        "\n",
        "primes_list = [2, 3, 3, 3, 5, 5]\n",
        "print(primes_list)\n",
        "\n",
        "print(set(primes_list))\n",
        "\n",
        "primes = {2, 3, 5, 7, 11, 13, 13, 13, 11, 11, 11, 11, 2, 2, 2}\n",
        "print(primes)"
      ],
      "execution_count": 10,
      "outputs": [
        {
          "output_type": "stream",
          "text": [
            "{2, 3, 5, 7, 11, 13}\n",
            "<class 'set'>\n",
            "[2, 3, 3, 3, 5, 5]\n",
            "{2, 3, 5}\n",
            "{2, 3, 5, 7, 11, 13}\n"
          ],
          "name": "stdout"
        }
      ]
    },
    {
      "cell_type": "code",
      "metadata": {
        "id": "fNkZcNs9_Hdn",
        "colab_type": "code",
        "colab": {
          "base_uri": "https://localhost:8080/",
          "height": 208
        },
        "outputId": "52e43586-b15b-42c2-af45-d2553d373b2e"
      },
      "source": [
        "primes = {2, 3, 5, 7, 11, 13}\n",
        "odds = {1, 3, 5, 7, 9, 11, 13}\n",
        "#交集(.intersection)\n",
        "print(primes & odds)\n",
        "print(primes.intersection(odds))\n",
        "#聯集(.union)\n",
        "print(primes | odds)\n",
        "print(primes.union(odds))\n",
        "#差異(.difference)\n",
        "print(primes - odds)\n",
        "print(odds - primes)\n",
        "print(primes.difference(odds))\n",
        "print(odds.difference(primes))\n",
        "#對稱差異(.symmetric_difference)\n",
        "print((primes - odds) | (odds - primes))\n",
        "print(primes ^ odds)\n",
        "print(primes.symmetric_difference(odds))"
      ],
      "execution_count": 11,
      "outputs": [
        {
          "output_type": "stream",
          "text": [
            "{3, 5, 7, 11, 13}\n",
            "{3, 5, 7, 11, 13}\n",
            "{1, 2, 3, 5, 7, 9, 11, 13}\n",
            "{1, 2, 3, 5, 7, 9, 11, 13}\n",
            "{2}\n",
            "{1, 9}\n",
            "{2}\n",
            "{1, 9}\n",
            "{1, 2, 9}\n",
            "{1, 2, 9}\n",
            "{1, 2, 9}\n"
          ],
          "name": "stdout"
        }
      ]
    }
  ]
}