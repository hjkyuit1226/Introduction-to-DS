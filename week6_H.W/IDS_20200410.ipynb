{
  "nbformat": 4,
  "nbformat_minor": 0,
  "metadata": {
    "colab": {
      "name": "IDS_20200410.ipynb",
      "provenance": []
    },
    "kernelspec": {
      "name": "python3",
      "display_name": "Python 3"
    }
  },
  "cells": [
    {
      "cell_type": "code",
      "metadata": {
        "id": "I3Mtiwt8BC4E",
        "colab_type": "code",
        "outputId": "38421834-b9fa-4c32-b623-eac437990250",
        "colab": {
          "base_uri": "https://localhost:8080/",
          "height": 68
        }
      },
      "source": [
        "city=input(\"請輸入您所在的城市\")\n",
        "weather=input(\"請輸入現在的天氣\")\n",
        "print(\"我在{}，天氣{}\".format(city,weather))"
      ],
      "execution_count": 0,
      "outputs": [
        {
          "output_type": "stream",
          "text": [
            "請輸入您所在的城市Taipei\n",
            "請輸入現在的天氣Sunny\n",
            "我在Taipei，天氣Sunny\n"
          ],
          "name": "stdout"
        }
      ]
    },
    {
      "cell_type": "code",
      "metadata": {
        "id": "pZRb5hufCJiN",
        "colab_type": "code",
        "outputId": "0d4bd638-9a08-4d3f-f124-b9308a729bed",
        "colab": {
          "base_uri": "https://localhost:8080/",
          "height": 85
        }
      },
      "source": [
        "city=input(\"請輸入您所在的城市\")\n",
        "weather = input(\"請輸入現在的天氣\")\n",
        "tempc = input(\"請輸入現在的攝氏氣溫\")\n",
        "tempc=int(tempc)\n",
        "tempf = tempc*9/5 +32\n",
        "\n",
        "print(\"我在{}，天氣{}，攝氏{}度，華氏{}度\".format(city,weather,tempc,tempf))"
      ],
      "execution_count": 0,
      "outputs": [
        {
          "output_type": "stream",
          "text": [
            "請輸入您所在的城市台北\n",
            "請輸入現在的天氣晴\n",
            "請輸入現在的攝氏氣溫26\n",
            "我在台北，天氣晴，攝氏26度，華氏78.8度\n"
          ],
          "name": "stdout"
        }
      ]
    },
    {
      "cell_type": "code",
      "metadata": {
        "id": "1QnDMIYsESKI",
        "colab_type": "code",
        "outputId": "75e05733-8acb-4a98-dc0c-c08492269c34",
        "colab": {
          "base_uri": "https://localhost:8080/",
          "height": 87
        }
      },
      "source": [
        "id_last_digit=input(\"請輸入您身分證字號的尾數:\")\n",
        "id_last_digit=int(id_last_digit)\n",
        "print(id_last_digit)\n",
        "print(type(id_last_digit))\n",
        "modulo=id_last_digit % 2\n",
        "ans=modulo==1\n",
        "print(ans)"
      ],
      "execution_count": 1,
      "outputs": [
        {
          "output_type": "stream",
          "text": [
            "請輸入您身分證字號的尾數:2\n",
            "2\n",
            "<class 'int'>\n",
            "False\n"
          ],
          "name": "stdout"
        }
      ]
    }
  ]
}