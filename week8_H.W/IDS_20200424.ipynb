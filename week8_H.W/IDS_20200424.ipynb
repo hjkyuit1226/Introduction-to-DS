{
  "nbformat": 4,
  "nbformat_minor": 0,
  "metadata": {
    "colab": {
      "name": "IDS_20200424.ipynb",
      "provenance": []
    },
    "kernelspec": {
      "name": "python3",
      "display_name": "Python 3"
    }
  },
  "cells": [
    {
      "cell_type": "code",
      "metadata": {
        "id": "vjtzEMx_LU7M",
        "colab_type": "code",
        "colab": {
          "base_uri": "https://localhost:8080/",
          "height": 52
        },
        "outputId": "db3c67aa-135e-4a8e-a3e2-afba99d52323"
      },
      "source": [
        "user_int = int(input(\"請輸入一個正整數:\"))\n",
        "if user_int % 15 == 0:\n",
        "    print('Fizz Buzz')\n",
        "elif user_int % 3 == 0:\n",
        "    print('Fizz')\n",
        "elif user_int % 5 == 0 :\n",
        "    print('Buzz')\n",
        "else:\n",
        "    print(user_int)"
      ],
      "execution_count": 2,
      "outputs": [
        {
          "output_type": "stream",
          "text": [
            "請輸入一個正整數:43\n",
            "43\n"
          ],
          "name": "stdout"
        }
      ]
    },
    {
      "cell_type": "code",
      "metadata": {
        "id": "cdL5vu7gMqaI",
        "colab_type": "code",
        "colab": {
          "base_uri": "https://localhost:8080/",
          "height": 191
        },
        "outputId": "62fb8175-49a1-4c10-9449-ef3e171d6371"
      },
      "source": [
        "i = 1\n",
        "while i <=10 :\n",
        "  print(i)\n",
        "  i+= 1"
      ],
      "execution_count": 4,
      "outputs": [
        {
          "output_type": "stream",
          "text": [
            "1\n",
            "2\n",
            "3\n",
            "4\n",
            "5\n",
            "6\n",
            "7\n",
            "8\n",
            "9\n",
            "10\n"
          ],
          "name": "stdout"
        }
      ]
    },
    {
      "cell_type": "code",
      "metadata": {
        "id": "CMSBY8GcNGQq",
        "colab_type": "code",
        "colab": {
          "base_uri": "https://localhost:8080/",
          "height": 35
        },
        "outputId": "1e6e5a70-3633-4135-9c3e-17e5e73fda32"
      },
      "source": [
        "i = 1\n",
        "counter = 0\n",
        "while i <=10 :\n",
        "  counter += 1\n",
        "  i+=1\n",
        "print(counter)"
      ],
      "execution_count": 5,
      "outputs": [
        {
          "output_type": "stream",
          "text": [
            "10\n"
          ],
          "name": "stdout"
        }
      ]
    },
    {
      "cell_type": "code",
      "metadata": {
        "id": "ByIJM4e9Nylz",
        "colab_type": "code",
        "colab": {
          "base_uri": "https://localhost:8080/",
          "height": 35
        },
        "outputId": "a13e30b3-813e-41b3-923d-03bf89d08093"
      },
      "source": [
        "i = 1\n",
        "summation = 0\n",
        "while i <= 100:\n",
        "  summation += i\n",
        "  i+= 1\n",
        "print(summation)"
      ],
      "execution_count": 9,
      "outputs": [
        {
          "output_type": "stream",
          "text": [
            "5050\n"
          ],
          "name": "stdout"
        }
      ]
    },
    {
      "cell_type": "code",
      "metadata": {
        "id": "yAJRDozqOXRP",
        "colab_type": "code",
        "colab": {
          "base_uri": "https://localhost:8080/",
          "height": 156
        },
        "outputId": "58d203f2-fb5a-442c-f547-16573378bae6"
      },
      "source": [
        "x = int(input(\"請輸入起始的正整數\"))\n",
        "y = int(input(\"請輸入終止的正整數\"))\n",
        "i = x\n",
        "while i <= y:\n",
        "  if i % 2 ==1:\n",
        "    print(i)\n",
        "  i += 1"
      ],
      "execution_count": 10,
      "outputs": [
        {
          "output_type": "stream",
          "text": [
            "請輸入起始的正整數55\n",
            "請輸入終止的正整數66\n",
            "55\n",
            "57\n",
            "59\n",
            "61\n",
            "63\n",
            "65\n"
          ],
          "name": "stdout"
        }
      ]
    }
  ]
}