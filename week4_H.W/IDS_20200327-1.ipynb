{
  "nbformat": 4,
  "nbformat_minor": 0,
  "metadata": {
    "colab": {
      "name": "IDS_20200327.ipynb",
      "provenance": []
    },
    "kernelspec": {
      "name": "python3",
      "display_name": "Python 3"
    }
  },
  "cells": [
    {
      "cell_type": "code",
      "metadata": {
        "id": "_oSNmtDVo712",
        "colab_type": "code",
        "colab": {
          "base_uri": "https://localhost:8080/",
          "height": 35
        },
        "outputId": "2f097812-f1a9-4a59-cec9-250d486aa942"
      },
      "source": [
        "current_celsius=28\n",
        "current_fahrenheit=current_celsius*9/5+32\n",
        "print(current_fahrenheit)"
      ],
      "execution_count": 2,
      "outputs": [
        {
          "output_type": "stream",
          "text": [
            "82.4\n"
          ],
          "name": "stdout"
        }
      ]
    },
    {
      "cell_type": "code",
      "metadata": {
        "id": "rZhNlDbnp1lW",
        "colab_type": "code",
        "colab": {
          "base_uri": "https://localhost:8080/",
          "height": 35
        },
        "outputId": "083bc70e-935c-41ad-8667-d625d3e8405f"
      },
      "source": [
        "shad_height=216\n",
        "shad_weight=147\n",
        "shad_bmi=shad_weight/(shad_height/100)**2\n",
        "print(shad_bmi)"
      ],
      "execution_count": 3,
      "outputs": [
        {
          "output_type": "stream",
          "text": [
            "31.507201646090532\n"
          ],
          "name": "stdout"
        }
      ]
    },
    {
      "cell_type": "code",
      "metadata": {
        "id": "gBFE6dAvrAHc",
        "colab_type": "code",
        "colab": {
          "base_uri": "https://localhost:8080/",
          "height": 35
        },
        "outputId": "8d72190e-b51f-4b95-a379-79a52b814d71"
      },
      "source": [
        "ross_said=\"Let's put aside the fact that you \\\"accidentally\\\" pick up my grandmother's ring.\"\n",
        "print(ross_said)  "
      ],
      "execution_count": 5,
      "outputs": [
        {
          "output_type": "stream",
          "text": [
            "Let's put aside the fact that you \"accidentally\" pick up my grandmother's ring.\n"
          ],
          "name": "stdout"
        }
      ]
    },
    {
      "cell_type": "code",
      "metadata": {
        "id": "g_KmiGv9sXYl",
        "colab_type": "code",
        "colab": {
          "base_uri": "https://localhost:8080/",
          "height": 69
        },
        "outputId": "892dcf10-ddea-45c5-9ede-a5a33c0e1e32"
      },
      "source": [
        "city=input(\"請輸入你在的城市\")\n",
        "weather=input(\"請輸入目前的天氣\")\n",
        "print(\"我在{}，天氣{}\".format(city,weather))"
      ],
      "execution_count": 6,
      "outputs": [
        {
          "output_type": "stream",
          "text": [
            "請輸入你在的城市台北\n",
            "請輸入目前的天氣陰\n",
            "我在台北，天氣陰\n"
          ],
          "name": "stdout"
        }
      ]
    },
    {
      "cell_type": "code",
      "metadata": {
        "id": "a4Lr8nwauOtH",
        "colab_type": "code",
        "colab": {
          "base_uri": "https://localhost:8080/",
          "height": 52
        },
        "outputId": "ccdb6185-7a01-47da-ac2c-bea39c510b45"
      },
      "source": [
        "print(type(True))\n",
        "print(type(False))"
      ],
      "execution_count": 8,
      "outputs": [
        {
          "output_type": "stream",
          "text": [
            "<class 'bool'>\n",
            "<class 'bool'>\n"
          ],
          "name": "stdout"
        }
      ]
    },
    {
      "cell_type": "code",
      "metadata": {
        "id": "NG4iwWVbvUst",
        "colab_type": "code",
        "colab": {
          "base_uri": "https://localhost:8080/",
          "height": 35
        },
        "outputId": "e8624368-556b-4208-c867-01f86220d92e"
      },
      "source": [
        "shad_bmi=31.507201646090532\n",
        "print(shad_bmi>30)"
      ],
      "execution_count": 9,
      "outputs": [
        {
          "output_type": "stream",
          "text": [
            "True\n"
          ],
          "name": "stdout"
        }
      ]
    }
  ]
}