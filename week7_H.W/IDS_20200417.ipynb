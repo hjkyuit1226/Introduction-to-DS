{
  "nbformat": 4,
  "nbformat_minor": 0,
  "metadata": {
    "colab": {
      "name": "IDS_20200417.ipynb",
      "provenance": []
    },
    "kernelspec": {
      "name": "python3",
      "display_name": "Python 3"
    }
  },
  "cells": [
    {
      "cell_type": "code",
      "metadata": {
        "id": "alJQyXP48FfA",
        "colab_type": "code",
        "colab": {
          "base_uri": "https://localhost:8080/",
          "height": 104
        },
        "outputId": "5717e816-706d-40a2-8a06-196758532216"
      },
      "source": [
        "monthly_income = input(\"請輸入月薪：\")\n",
        "saving_account = input(\"請輸入存款：\")\n",
        "monthly_income = int(monthly_income)\n",
        "saving_account = int(saving_account)\n",
        "print(type(monthly_income))\n",
        "print(type(saving_account))\n",
        "ans = \"\"\n",
        "# 條件判斷(begin)\n",
        "if monthly_income > 40000 or saving_account > 500000:\n",
        "    ans = \"發信用卡\"\n",
        "# 條件判斷(end)\n",
        "print(ans)"
      ],
      "execution_count": 13,
      "outputs": [
        {
          "output_type": "stream",
          "text": [
            "請輸入月薪：40001\n",
            "請輸入存款：399999\n",
            "<class 'int'>\n",
            "<class 'int'>\n",
            "發信用卡\n"
          ],
          "name": "stdout"
        }
      ]
    },
    {
      "cell_type": "code",
      "metadata": {
        "id": "ulYpMDzrA7et",
        "colab_type": "code",
        "colab": {
          "base_uri": "https://localhost:8080/",
          "height": 52
        },
        "outputId": "ea3bc047-6c24-4e0a-fbaf-c402cd3ba73d"
      },
      "source": [
        "user_int = input(\"請輸入一個正整數：\")\n",
        "user_int = int(user_int)\n",
        "if user_int % 2 == 0:\n",
        "    ans = \"偶數\"\n",
        "else:\n",
        "    ans = \"奇數\"\n",
        "print(ans)"
      ],
      "execution_count": 4,
      "outputs": [
        {
          "output_type": "stream",
          "text": [
            "請輸入一個正整數：23\n",
            "奇數\n"
          ],
          "name": "stdout"
        }
      ]
    },
    {
      "cell_type": "code",
      "metadata": {
        "id": "ku-fo0ntBFDa",
        "colab_type": "code",
        "colab": {
          "base_uri": "https://localhost:8080/",
          "height": 52
        },
        "outputId": "875dc441-7145-4954-94c3-ea88e8ee276b"
      },
      "source": [
        "id_last_digit = input(\"請輸入身份證字號的尾數:\")\n",
        "id_last_digit = int(id_last_digit)\n",
        "if id_last_digit % 2 == 0:\n",
        "  ans = \"星期二四六領\"\n",
        "else:\n",
        "  ans = \"星期一三五日領\"\n",
        "print(ans)"
      ],
      "execution_count": 5,
      "outputs": [
        {
          "output_type": "stream",
          "text": [
            "請輸入身份證字號的尾數:2\n",
            "星期二四六領\n"
          ],
          "name": "stdout"
        }
      ]
    },
    {
      "cell_type": "code",
      "metadata": {
        "id": "PUEXV4GaEUuu",
        "colab_type": "code",
        "colab": {
          "base_uri": "https://localhost:8080/",
          "height": 52
        },
        "outputId": "c855338f-14c0-4394-e378-5674c0127d7c"
      },
      "source": [
        "id_number = input(\"請輸入身分證字號：\")\n",
        "id_last_digit = id_number[-1]\n",
        "id_last_digit = int(id_last_digit)\n",
        "if id_last_digit % 2 == 0:\n",
        "    ans = \"星期二四六日領\"\n",
        "else:\n",
        "    ans = \"星期一三五日領\"\n",
        "print(ans)"
      ],
      "execution_count": 11,
      "outputs": [
        {
          "output_type": "stream",
          "text": [
            "請輸入身分證字號：F230023082\n",
            "星期二四六日領\n"
          ],
          "name": "stdout"
        }
      ]
    },
    {
      "cell_type": "code",
      "metadata": {
        "id": "BDCoKpHiEqnQ",
        "colab_type": "code",
        "colab": {
          "base_uri": "https://localhost:8080/",
          "height": 69
        },
        "outputId": "3c6ccb28-d835-4d92-90c3-88f5f2338fa8"
      },
      "source": [
        "input_height = float(input(\"請輸入身高（公分）：\"))\n",
        "input_weight = float(input(\"請輸入體重（公斤）：\"))\n",
        "bmi = input_weight / (input_height*0.01)**2\n",
        "if bmi > 30:\n",
        "    label = \"Obese\"\n",
        "elif bmi > 25:\n",
        "    label = \"Overweight\"\n",
        "elif bmi > 18.5:\n",
        "    label = \"Normal weight\"\n",
        "elif bmi <= 18.5:\n",
        "    label = \"Underweight\"\n",
        "print(label)"
      ],
      "execution_count": 12,
      "outputs": [
        {
          "output_type": "stream",
          "text": [
            "請輸入身高（公分）：151\n",
            "請輸入體重（公斤）：40\n",
            "Underweight\n"
          ],
          "name": "stdout"
        }
      ]
    }
  ]
}